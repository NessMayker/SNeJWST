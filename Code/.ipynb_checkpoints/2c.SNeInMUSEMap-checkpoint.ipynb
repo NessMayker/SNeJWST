{
 "cells": [
  {
   "cell_type": "markdown",
   "metadata": {},
   "source": [
    "This notebook reads in the cleaned OSC file (1.OSCCleaned.csv') and searches through ESO & MUSE map images, looking for OSC objects that have gone off in their footprint. \n",
    "\n",
    "It then converts the ra & dec coordinates to map pixels and measures the pixel intensity there.\n",
    "\n",
    "This notebook prints the OSC Object data on the '2.SNeHaMasterCat.txt'. \n",
    "\n",
    "This notebook then turns the 2.SNeHaMasterCat.txt file into a dataframe, where the non SN objects are removed and then the cleaned table is printed to '2.SNeHaMasterCatClean.csv'.\n",
    "\n",
    "This cleaned table is used to plot all of the galaxy images and their respective SNe in ../Figures/2.ESO_Galaxy_Images & 2.ESO_SNe_Galaxy_Images, ../Figures/2.MUSE_Galaxy_Images & 2.MUSE_SNe_Galaxy_Images"
   ]
  },
  {
   "cell_type": "code",
   "execution_count": 1,
   "metadata": {},
   "outputs": [],
   "source": [
    "#import packages and formatting statements\n",
    "\n",
    "import numpy as np\n",
    "from matplotlib import pyplot as plt\n",
    "import astropy.io.fits as pyfits\n",
    "from astropy.table import Table, join, Column\n",
    "from astropy.wcs import WCS\n",
    "from astropy.io import ascii\n",
    "import os\n",
    "\n",
    "plt.rc('text',usetex=False)\n",
    "fontsize=20\n",
    "plt.rc('xtick',labelsize=fontsize)\n",
    "plt.rc('ytick',labelsize=fontsize)"
   ]
  },
  {
   "cell_type": "code",
   "execution_count": 2,
   "metadata": {},
   "outputs": [],
   "source": [
    "# Compile galaxy and OSC objects\n",
    "DataFile = '../Data/1.ProjectTable.csv'\n",
    "Data = Table.read(DataFile, format='csv') \n",
    "galaxies, ESOmaps, MUSEres, MUSEmaps = Data[\"Galaxy\"], Data[\"ESO-MPG_Hasub_wcomb_corr\"], Data[\"MUSEResolution\"], Data[\"MUSEmap\"]\n",
    "SNe = np.loadtxt('../Data/1.OSCRaDeg.txt', dtype = str, unpack=True, usecols = 0)\n",
    "ras = np.loadtxt('../Data/1.OSCRaDeg.txt',delimiter='\" ', unpack = True, usecols=1)\n",
    "decs = np.loadtxt('../Data/1.OSCDecDeg.txt',delimiter='\" ',unpack = True, usecols = (1))\n",
    "types = np.loadtxt('../Data/1.OSCCleaned.csv', dtype=str, unpack=True, usecols=3)"
   ]
  },
  {
   "cell_type": "code",
   "execution_count": 3,
   "metadata": {},
   "outputs": [],
   "source": [
    "#Checks if Supernovae are in an image and reports back their x & y coords if in map\n",
    "\n",
    "def check_in_image(SNras, SNdecs, SNnames, SNtypes, image, maptype = \"MUSE\"):\n",
    "    \n",
    "    hdulist  = pyfits.open(image)\n",
    "    \n",
    "    if maptype == \"MUSE\":\n",
    "        map = hdulist[\"HA6562_FLUX\"].data\n",
    "        #emap = hdulist[\"HA6562_FLUX_ERR\"].data     \n",
    "        wcs = WCS(hdulist[\"HA6562_FLUX\"].header, naxis=2)\n",
    "        naxis = wcs._naxis #size of image\n",
    "        naxis1 = hdulist[\"HA6562_FLUX\"].header['NAXIS1']\n",
    "        naxis2 = hdulist[\"HA6562_FLUX\"].header['NAXIS2']\n",
    "    else:\n",
    "        map = hdulist[0].data\n",
    "        #emap = \"find a way to use RMS from galaxy for these\"\n",
    "        wcs = WCS(hdulist[0].header, naxis=2)\n",
    "        #beamsize = hdulist[0].header[\"BEAM\"]\n",
    "        naxis = wcs._naxis #size of image\n",
    "        naxis1 = hdulist[0].header['NAXIS1']\n",
    "        naxis2 = hdulist[0].header['NAXIS2']\n",
    "        \n",
    "    coords_arr = np.column_stack((SNras, SNdecs)) # ras and decs now [ra,dec]\n",
    "    pix_x, pix_y = wcs.wcs_world2pix(SNras,SNdecs,0)\n",
    "\n",
    "    #use world coordinates of all SNe to see if any fall in image (our version of footprint_contains)\n",
    "\n",
    "    is_in_x = (pix_x >= 0) & (pix_x <= naxis[0]-1) #because of 0-indexing\n",
    "    is_in_y = (pix_y >= 0) & (pix_y <= naxis[1]-1)\n",
    "             \n",
    "    #get the name, ra, and dec of the SNe that fall in image\n",
    "    #boolean array indexing (gives back array of Trues and Falses)\n",
    "    #we are pulling out the SNe that are True and assigning them to own arrays\n",
    "    name_in_image = np.array(SNnames)[is_in_x & is_in_y]\n",
    "    type_in_image = np.array(SNtypes)[is_in_x & is_in_y]\n",
    "    ra_in_image = np.array(SNras)[is_in_x & is_in_y]\n",
    "    dec_in_image = np.array(SNdecs)[is_in_x & is_in_y]\n",
    "\n",
    "    x_coord = np.array(pix_x)[is_in_x & is_in_y]\n",
    "    y_coord = np.array(pix_y)[is_in_x & is_in_y]\n",
    "    \n",
    "    return(name_in_image, type_in_image, ra_in_image, dec_in_image, x_coord, y_coord, map, naxis1, naxis2)\n",
    "    #print(name_in_image, type_in_image, ra_in_image, dec_in_image, x_coord, y_coord)\n"
   ]
  },
  {
   "cell_type": "code",
   "execution_count": 4,
   "metadata": {},
   "outputs": [],
   "source": [
    "# Build MUSE Catalogue That has all OSC entries within PHANGS-MUSE footprint\n",
    "\n",
    "with open('../Data/2.SNeHa_MUSE_Cat.txt', 'w') as text_file:\n",
    "    print('#Galaxy,Supernova,Ra,Dec,MUSE_xCoord,MUSE_yCoord,Type,MUSE_Intensity', file = text_file)\n",
    "\n",
    "for i in range(len(galaxies)):\n",
    "    if (MUSEmaps[i] != \"\" and os.path.isfile(MUSEmaps[i])):\n",
    "    \n",
    "        found_name, found_type, found_ra, found_dec, x_coord, y_coord, map, naxis1, naxis2 = check_in_image(ras, decs, SNe, types, MUSEmaps[i])\n",
    "        intensity = []\n",
    "    \n",
    "        for k in range(len(found_type)):\n",
    "\n",
    "            xVal = int(round(x_coord[k]))\n",
    "            yVal = int(round(y_coord[k]))\n",
    "            if (yVal <= naxis2) and (xVal <= naxis1):\n",
    "                intensity.append(map[yVal, xVal])\n",
    "\n",
    "            else: \n",
    "                intensity.append(np.nan)\n",
    "\n",
    "\n",
    "        with open('../Data/2.SNeHa_MUSE_Cat.txt', 'a') as text_file:\n",
    "            for j in range(len(found_name)):\n",
    "                print(galaxies[i], \",\", found_name[j],\",\", found_ra[j], \",\",found_dec[j],\",\", x_coord[j],\",\",y_coord[j],\",\", found_type[j],\",\", intensity[j], file = text_file)\n"
   ]
  },
  {
   "cell_type": "code",
   "execution_count": 5,
   "metadata": {},
   "outputs": [
    {
     "name": "stderr",
     "output_type": "stream",
     "text": [
      "WARNING: FITSFixedWarning: RADECSYS= 'ICRS ' / Reference frame \n",
      "the RADECSYS keyword is deprecated, use RADESYSa. [astropy.wcs.wcs]\n"
     ]
    }
   ],
   "source": [
    "# Build ESO-MPG Catalogue That has all OSC entries within PHANGS-ESO-MPG footprint\n",
    "\n",
    "with open('../Data/2.SNeHa_ESO_Cat.txt', 'w') as text_file:\n",
    "    print('#Galaxy,Supernova,Ra,Dec,ESO_xCoord,ESO_yCoord,Type,ESO_Intensity', file = text_file)\n",
    "\n",
    "for i in range(len(galaxies)):\n",
    "    if (ESOmaps[i] != \"\" and os.path.isfile(ESOmaps[i])):\n",
    "    \n",
    "        found_name, found_type, found_ra, found_dec, x_coord, y_coord, map, naxis1, naxis2 = check_in_image(ras, decs, SNe, types, ESOmaps[i], maptype=\"ESO\") \n",
    "        intensity = []\n",
    "    \n",
    "        for k in range(len(found_type)):\n",
    "\n",
    "            xVal = int(round(x_coord[k]))\n",
    "            yVal = int(round(y_coord[k]))\n",
    "            if (yVal <= naxis2) and (xVal <= naxis1):\n",
    "                intensity.append(map[yVal, xVal])\n",
    "\n",
    "            else: \n",
    "                intensity.append(np.nan)\n",
    "\n",
    "\n",
    "        with open('../Data/2.SNeHa_ESO_Cat.txt', 'a') as text_file:\n",
    "            for j in range(len(found_name)):\n",
    "                print(galaxies[i], \",\", found_name[j],\",\", found_ra[j], \",\",found_dec[j],\",\", x_coord[j],\",\",y_coord[j],\",\", found_type[j],\",\", intensity[j], file = text_file)\n"
   ]
  },
  {
   "cell_type": "code",
   "execution_count": 6,
   "metadata": {
    "scrolled": true
   },
   "outputs": [],
   "source": [
    "# Turn files into data structure and clean\n",
    "\n",
    "ESOdataFile = '../Data/2.SNeHa_ESO_Cat.txt'\n",
    "MUSEdataFile = '../Data/2.SNeHa_MUSE_Cat.txt'\n",
    "ESOTable = Table.read(ESOdataFile, format='ascii') \n",
    "MUSETable = Table.read(MUSEdataFile, format='ascii') \n",
    "database = join(ESOTable, MUSETable, keys=('Galaxy', \"Supernova\", \"Ra\", \"Dec\", \"Type\"), join_type=\"outer\")\n",
    "database = join(database, Data, keys=('Galaxy'))\n",
    "\n",
    "#database\n",
    "ascii.write(database, '../Data/2.SNeHaMasterCat.csv', format='csv', fast_writer=False, overwrite=True)  \n"
   ]
  },
  {
   "cell_type": "code",
   "execution_count": 7,
   "metadata": {},
   "outputs": [
    {
     "name": "stdout",
     "output_type": "stream",
     "text": [
      " Galaxy Supernova         Ra               Dec             ESO_xCoord         ESO_yCoord    Type ESO_Intensity MUSE_xCoord MUSE_yCoord MUSE_Intensity                               ESO-MPG_Hasub_wcomb_corr                               MUSEResolution MUSEmap\n",
      "------- --------- ----------------- ------------------ ------------------ ----------------- ---- ------------- ----------- ----------- -------------- ------------------------------------------------------------------------------------ -------------- -------\n",
      "NGC6744  SN2005at 287.4732777777778 -63.82312037037037 3720.2351509629934 4471.392323277116   Ic      2.962026          --          --             -- /home/mayker.1/Desktop/SNeHaLargeData/HaSUB_wcomb_corr/NGC6744_Hasub_flux_corrs.fits             --      --\n"
     ]
    }
   ],
   "source": [
    "print(database[-1])"
   ]
  },
  {
   "cell_type": "code",
   "execution_count": 8,
   "metadata": {},
   "outputs": [],
   "source": [
    "\n",
    "SN_name = [x[2:-2] for x in database[\"Supernova\"]]\n",
    "\n",
    "# Here we are going to filter out our undesired OSC entries:\n",
    "    # One is a double counted SN named \"PTSS-19clju\", any LRNs or LBVs or IIns, and any candidates\n",
    "\n",
    "flags = []\n",
    "flag1 = database['Supernova'] == \"PTSS-19clju\" \n",
    "flag3 = database['Supernova'] == \"Gaia21fml\" \n",
    "flag5 = database['Supernova'] == \"Gaia21cum\"\n",
    "\n",
    "flag2 = []\n",
    "\n",
    "for i in range(len(SN_name)):\n",
    "    if (\"LRN\" in database['Type'][i] or \"LBV\" in database['Type'][i] or \"IIn\" in database['Type'][i] or \"Candidate\" in database['Type'][i]):\n",
    "        flag2.append(True)\n",
    "    else:\n",
    "        flag2.append(False)\n",
    "\n",
    "for i in range(len(flag1)):\n",
    "    if flag1[i] == True or flag2[i] == True or flag3[i] == True or flag5[i] == True:\n",
    "        flags.append(True)\n",
    "    else:\n",
    "        flags.append(False)\n",
    "        \n",
    "flagsArr = np.array(flags)\n",
    "\n",
    "c = Column(data=flags, name='Removed')\n",
    "database.add_column(c)\n",
    "ascii.write(database, '../Data/2.SNeHaMasterCat.csv', format='csv', fast_writer=False, overwrite = True) \n",
    "\n",
    "cleanData = database[flagsArr==False]\n",
    "\n",
    "cleanData\n",
    "\n",
    "ascii.write(cleanData, '../Data/2.SNeHaMasterCatClean.csv', format='csv', fast_writer=False, overwrite = True)  "
   ]
  },
  {
   "cell_type": "code",
   "execution_count": 9,
   "metadata": {
    "scrolled": true
   },
   "outputs": [
    {
     "data": {
      "text/html": [
       "<i>Table length=51</i>\n",
       "<table id=\"table139723984097184\" class=\"table-striped table-bordered table-condensed\">\n",
       "<thead><tr><th>Galaxy</th><th>Supernova</th><th>Ra</th><th>Dec</th><th>ESO_xCoord</th><th>ESO_yCoord</th><th>Type</th><th>ESO_Intensity</th><th>MUSE_xCoord</th><th>MUSE_yCoord</th><th>MUSE_Intensity</th><th>ESO-MPG_Hasub_wcomb_corr</th><th>MUSEResolution</th><th>MUSEmap</th><th>Removed</th></tr></thead>\n",
       "<thead><tr><th>str8</th><th>str23</th><th>float64</th><th>float64</th><th>float64</th><th>float64</th><th>str12</th><th>float64</th><th>float64</th><th>float64</th><th>float64</th><th>str85</th><th>float64</th><th>str80</th><th>bool</th></tr></thead>\n",
       "<tr><td>NGC0628</td><td>PS15blm</td><td>24.258708333333335</td><td>15.777000000000001</td><td>1253.8697326978763</td><td>2391.66186884759</td><td>unclassified</td><td>6.3913784</td><td>--</td><td>--</td><td>--</td><td>/home/mayker.1/Desktop/SNeHaLargeData/HaSUB_wcomb_corr/NGC0628_Hasub_flux_corrs.fits</td><td>0.92</td><td>/data/fourier/sun.1608/PHANGS/MUSE/DR2.1/MUSEDAP/copt/NGC0628-0.92asec_MAPS.fits</td><td>False</td></tr>\n",
       "<tr><td>NGC0628</td><td>SN2002ap</td><td>24.09940416666667</td><td>15.753649074074074</td><td>3577.0564594599123</td><td>2037.1622175556208</td><td>Ic</td><td>-0.17532486</td><td>--</td><td>--</td><td>--</td><td>/home/mayker.1/Desktop/SNeHaLargeData/HaSUB_wcomb_corr/NGC0628_Hasub_flux_corrs.fits</td><td>0.92</td><td>/data/fourier/sun.1608/PHANGS/MUSE/DR2.1/MUSEDAP/copt/NGC0628-0.92asec_MAPS.fits</td><td>False</td></tr>\n",
       "<tr><td>NGC0628</td><td>SN2003gd</td><td>24.17770555555555</td><td>15.738966666666665</td><td>2434.990386106029</td><td>1814.759548435055</td><td>II</td><td>0.55219537</td><td>--</td><td>--</td><td>--</td><td>/home/mayker.1/Desktop/SNeHaLargeData/HaSUB_wcomb_corr/NGC0628_Hasub_flux_corrs.fits</td><td>0.92</td><td>/data/fourier/sun.1608/PHANGS/MUSE/DR2.1/MUSEDAP/copt/NGC0628-0.92asec_MAPS.fits</td><td>False</td></tr>\n",
       "<tr><td>NGC0628</td><td>SN2013ej</td><td>24.200666666666667</td><td>15.758611111111112</td><td>2100.1951571946192</td><td>2112.559714338542</td><td>II</td><td>0.09700711</td><td>243.19103784243157</td><td>305.29329959411643</td><td>nan</td><td>/home/mayker.1/Desktop/SNeHaLargeData/HaSUB_wcomb_corr/NGC0628_Hasub_flux_corrs.fits</td><td>0.92</td><td>/data/fourier/sun.1608/PHANGS/MUSE/DR2.1/MUSEDAP/copt/NGC0628-0.92asec_MAPS.fits</td><td>False</td></tr>\n",
       "<tr><td>NGC1087</td><td>SN1995V</td><td>41.61152777777777</td><td>-0.4987861111111111</td><td>648.7610232419815</td><td>747.9909198104285</td><td>II</td><td>5.0002465</td><td>183.09993631014947</td><td>450.72004174402633</td><td>2663.371834437333</td><td>/home/mayker.1/Desktop/SNeHaLargeData/HaSUB_wcomb_corr/NGC1087_Hasub_flux_corrs.fits</td><td>0.92</td><td>/data/fourier/sun.1608/PHANGS/MUSE/DR2.1/MUSEDAP/copt/NGC1087-0.92asec_MAPS.fits</td><td>False</td></tr>\n",
       "<tr><td>NGC1300</td><td>LSQ14dtr</td><td>49.96679166666666</td><td>-19.478694444444443</td><td>841.190251571016</td><td>472.6653386793862</td><td>Ia</td><td>-0.06859025</td><td>--</td><td>--</td><td>--</td><td>/home/mayker.1/Desktop/SNeHaLargeData/HaSUB_wcomb_corr/NGC1300_Hasub_flux_corrs.fits</td><td>0.89</td><td>/data/fourier/sun.1608/PHANGS/MUSE/DR2.1/MUSEDAP/copt/NGC1300-0.89asec_MAPS.fits</td><td>False</td></tr>\n",
       "<tr><td>NGC1365</td><td>SN1983V</td><td>53.381876388888884</td><td>-36.14859166666667</td><td>3270.6237389153885</td><td>2906.610095778981</td><td>Ic</td><td>9.090737</td><td>1027.9095105186898</td><td>309.74396493992725</td><td>5743.3576143866185</td><td>/home/mayker.1/Desktop/SNeHaLargeData/HaSUB_wcomb_corr/NGC1365_Hasub_flux_corrs.fits</td><td>1.15</td><td>/data/fourier/sun.1608/PHANGS/MUSE/DR2.1/MUSEDAP/copt/NGC1365-1.15asec_MAPS.fits</td><td>False</td></tr>\n",
       "<tr><td>NGC1365</td><td>SN1957C</td><td>53.38349999999999</td><td>-36.11770833333333</td><td>3250.4029666345923</td><td>3374.662468105187</td><td>unclassified</td><td>2.834359</td><td>1004.4155369313344</td><td>865.6486483514018</td><td>1697.5272118916866</td><td>/home/mayker.1/Desktop/SNeHaLargeData/HaSUB_wcomb_corr/NGC1365_Hasub_flux_corrs.fits</td><td>1.15</td><td>/data/fourier/sun.1608/PHANGS/MUSE/DR2.1/MUSEDAP/copt/NGC1365-1.15asec_MAPS.fits</td><td>False</td></tr>\n",
       "<tr><td>NGC1365</td><td>SN2001du</td><td>53.3713125</td><td>-36.142111111111106</td><td>3399.846121958709</td><td>3004.9164893583365</td><td>II</td><td>1.5359482</td><td>1181.490382249507</td><td>426.35406918108174</td><td>929.5770449215998</td><td>/home/mayker.1/Desktop/SNeHaLargeData/HaSUB_wcomb_corr/NGC1365_Hasub_flux_corrs.fits</td><td>1.15</td><td>/data/fourier/sun.1608/PHANGS/MUSE/DR2.1/MUSEDAP/copt/NGC1365-1.15asec_MAPS.fits</td><td>False</td></tr>\n",
       "<tr><td>NGC1365</td><td>SN2012fr</td><td>53.40057916666666</td><td>-36.12676944444445</td><td>3041.428195030292</td><td>3237.1579264657776</td><td>Ia</td><td>0.36029622</td><td>756.0731074267953</td><td>702.5736600562143</td><td>69.29969489043229</td><td>/home/mayker.1/Desktop/SNeHaLargeData/HaSUB_wcomb_corr/NGC1365_Hasub_flux_corrs.fits</td><td>1.15</td><td>/data/fourier/sun.1608/PHANGS/MUSE/DR2.1/MUSEDAP/copt/NGC1365-1.15asec_MAPS.fits</td><td>False</td></tr>\n",
       "<tr><td>...</td><td>...</td><td>...</td><td>...</td><td>...</td><td>...</td><td>...</td><td>...</td><td>...</td><td>...</td><td>...</td><td>...</td><td>...</td><td>...</td><td>...</td></tr>\n",
       "<tr><td>NGC4321</td><td>SN2006X</td><td>185.72488194444443</td><td>15.809006481481482</td><td>1593.6870431673428</td><td>1334.0665143351644</td><td>Ia</td><td>-0.3192859</td><td>653.7340413781637</td><td>214.79265261232624</td><td>192.23003479227665</td><td>/home/mayker.1/Desktop/SNeHaLargeData/HaSUB_wcomb_corr/NGC4321_Hasub_flux_corrs.fits</td><td>1.16</td><td>/data/fourier/sun.1608/PHANGS/MUSE/DR2.1/MUSEDAP/copt/NGC4321-1.16asec_MAPS.fits</td><td>False</td></tr>\n",
       "<tr><td>NGC4321</td><td>SN2020oi</td><td>185.72892708333336</td><td>15.8236125</td><td>1534.761052997933</td><td>1555.416071038866</td><td>Ic</td><td>34.89857</td><td>583.6685490767559</td><td>477.69842475534944</td><td>20132.40854565195</td><td>/home/mayker.1/Desktop/SNeHaLargeData/HaSUB_wcomb_corr/NGC4321_Hasub_flux_corrs.fits</td><td>1.16</td><td>/data/fourier/sun.1608/PHANGS/MUSE/DR2.1/MUSEDAP/copt/NGC4321-1.16asec_MAPS.fits</td><td>False</td></tr>\n",
       "<tr><td>NGC4321</td><td>SN2019ehk</td><td>185.73393055555553</td><td>15.826070370370369</td><td>1461.8231958410274</td><td>1592.6808703794022</td><td>Ib</td><td>-0.12679927</td><td>497.01876121421765</td><td>521.9387800195145</td><td>270.51022196339994</td><td>/home/mayker.1/Desktop/SNeHaLargeData/HaSUB_wcomb_corr/NGC4321_Hasub_flux_corrs.fits</td><td>1.16</td><td>/data/fourier/sun.1608/PHANGS/MUSE/DR2.1/MUSEDAP/copt/NGC4321-1.16asec_MAPS.fits</td><td>False</td></tr>\n",
       "<tr><td>NGC4496A</td><td>SN1988M</td><td>187.92059375000002</td><td>3.922786666666666</td><td>742.9888124129284</td><td>595.3248731735425</td><td>II</td><td>1.4810797</td><td>--</td><td>--</td><td>--</td><td>/home/mayker.1/Desktop/SNeHaLargeData/HaSUB_wcomb_corr/NGC4496A_Hasub_flux_corrs.fits</td><td>--</td><td>--</td><td>False</td></tr>\n",
       "<tr><td>NGC4496A</td><td>SN1960F</td><td>187.92522222222223</td><td>3.9466111111111113</td><td>673.0408874171619</td><td>956.3887023003158</td><td>Ia</td><td>0.08794757</td><td>--</td><td>--</td><td>--</td><td>/home/mayker.1/Desktop/SNeHaLargeData/HaSUB_wcomb_corr/NGC4496A_Hasub_flux_corrs.fits</td><td>--</td><td>--</td><td>False</td></tr>\n",
       "<tr><td>NGC4540</td><td>SN2001Z</td><td>188.73279166666669</td><td>15.56875</td><td>248.2832050375166</td><td>810.5737968154358</td><td>II</td><td>0.14385411</td><td>--</td><td>--</td><td>--</td><td>/home/mayker.1/Desktop/SNeHaLargeData/HaSUB_wcomb_corr/NGC4540_Hasub_flux_corrs.fits</td><td>--</td><td>--</td><td>False</td></tr>\n",
       "<tr><td>NGC4569</td><td>COVET-090220F</td><td>189.07716666666667</td><td>13.247194444444444</td><td>4222.628996946725</td><td>3575.897797392368</td><td>unclassified</td><td>-0.20874038</td><td>--</td><td>--</td><td>--</td><td>/home/mayker.1/Desktop/SNeHaLargeData/HaSUB_wcomb_corr/NGC4569_Hasub_flux_corrs.fits</td><td>--</td><td>--</td><td>False</td></tr>\n",
       "<tr><td>NGC4569</td><td>PTF13bdl</td><td>189.23391666666666</td><td>13.129305555555556</td><td>1909.6093998444371</td><td>1789.5119187751075</td><td>unclassified</td><td>-0.69260997</td><td>--</td><td>--</td><td>--</td><td>/home/mayker.1/Desktop/SNeHaLargeData/HaSUB_wcomb_corr/NGC4569_Hasub_flux_corrs.fits</td><td>--</td><td>--</td><td>False</td></tr>\n",
       "<tr><td>NGC4571</td><td>PSNJ12364391+1416186</td><td>189.18291666666667</td><td>14.271833333333333</td><td>1661.6926518307346</td><td>1723.4371226951607</td><td>unclassified</td><td>-0.23887062</td><td>--</td><td>--</td><td>--</td><td>/home/mayker.1/Desktop/SNeHaLargeData/HaSUB_wcomb_corr/NGC4571_Hasub_flux_corrs.fits</td><td>--</td><td>--</td><td>False</td></tr>\n",
       "<tr><td>NGC6744</td><td>SN2005at</td><td>287.4732777777778</td><td>-63.82312037037037</td><td>3720.2351509629934</td><td>4471.392323277116</td><td>Ic</td><td>2.962026</td><td>--</td><td>--</td><td>--</td><td>/home/mayker.1/Desktop/SNeHaLargeData/HaSUB_wcomb_corr/NGC6744_Hasub_flux_corrs.fits</td><td>--</td><td>--</td><td>False</td></tr>\n",
       "</table>"
      ],
      "text/plain": [
       "<Table length=51>\n",
       " Galaxy       Supernova       ... Removed\n",
       "  str8          str23         ...   bool \n",
       "-------- -------------------- ... -------\n",
       " NGC0628              PS15blm ...   False\n",
       " NGC0628             SN2002ap ...   False\n",
       " NGC0628             SN2003gd ...   False\n",
       " NGC0628             SN2013ej ...   False\n",
       " NGC1087              SN1995V ...   False\n",
       " NGC1300             LSQ14dtr ...   False\n",
       " NGC1365              SN1983V ...   False\n",
       " NGC1365              SN1957C ...   False\n",
       " NGC1365             SN2001du ...   False\n",
       " NGC1365             SN2012fr ...   False\n",
       "     ...                  ... ...     ...\n",
       " NGC4321              SN2006X ...   False\n",
       " NGC4321             SN2020oi ...   False\n",
       " NGC4321            SN2019ehk ...   False\n",
       "NGC4496A              SN1988M ...   False\n",
       "NGC4496A              SN1960F ...   False\n",
       " NGC4540              SN2001Z ...   False\n",
       " NGC4569        COVET-090220F ...   False\n",
       " NGC4569             PTF13bdl ...   False\n",
       " NGC4571 PSNJ12364391+1416186 ...   False\n",
       " NGC6744             SN2005at ...   False"
      ]
     },
     "execution_count": 9,
     "metadata": {},
     "output_type": "execute_result"
    }
   ],
   "source": [
    "cleanData"
   ]
  },
  {
   "cell_type": "code",
   "execution_count": 10,
   "metadata": {},
   "outputs": [],
   "source": [
    "# for i in range(len(galaxies)):\n",
    "#     print(data[\"Galaxy\"][i], data[\"ESO-MPG_Hasub_wcomb_corr\"][i])"
   ]
  },
  {
   "cell_type": "code",
   "execution_count": 11,
   "metadata": {
    "scrolled": true
   },
   "outputs": [
    {
     "name": "stderr",
     "output_type": "stream",
     "text": [
      "<ipython-input-11-b6b9cd9477f5>:12: RuntimeWarning: invalid value encountered in log10\n",
      "  logmap = np.log10(map)\n",
      "<ipython-input-11-b6b9cd9477f5>:12: RuntimeWarning: divide by zero encountered in log10\n",
      "  logmap = np.log10(map)\n"
     ]
    }
   ],
   "source": [
    "# Plot ESO Galaxy Files with SNe\n",
    "\n",
    "data = ascii.read('../Data/2.SNeHaMasterCatClean.csv')\n",
    "\n",
    "for i in range(len(data[\"Galaxy\"])):\n",
    "    \n",
    "    if (data[\"ESO-MPG_Hasub_wcomb_corr\"][i] != \"\" and os.path.isfile(data[\"ESO-MPG_Hasub_wcomb_corr\"][i])):     \n",
    "    \n",
    "        found_name, found_type, found_ra, found_dec, x_coord, y_coord, map, naxis1, naxis2 = check_in_image(data['Ra'], data['Dec'], data['Supernova'], data['Type'], data[\"ESO-MPG_Hasub_wcomb_corr\"][i], maptype = \"ESO\")\n",
    "    \n",
    "        plt.figure(figsize=(7, 7))\n",
    "        logmap = np.log10(map)\n",
    "        plt.imshow(logmap, origin='lower', interpolation='nearest', zorder=1)\n",
    "\n",
    "        for k in range(len(found_name)):\n",
    "\n",
    "            string = found_name[k]\n",
    "\n",
    "            if (len(found_type[k])>1):\n",
    "                if found_type[k][1] == \"I\":\n",
    "                    #colorCode = 'chartreuse'\n",
    "                    colorCode = 'black'\n",
    "                    mkr = '*'\n",
    "                elif found_type[k][1] == \"b\" or found_type[k][1] == \"c\":\n",
    "                    #colorCode = 'salmon'\n",
    "                    colorCode = 'darkblue'\n",
    "                    mkr = '^'\n",
    "                elif found_type[k][1] == \"a\":\n",
    "                    #colorCode = 'deeppink'\n",
    "                    colorCode = 'indigo'\n",
    "                    mkr = 'o'\n",
    "                else:\n",
    "                    colorCode = 'magenta'\n",
    "                    mkr = '>'\n",
    "            else:\n",
    "                #colorCode = 'cyan'\n",
    "                colorCode = 'maroon'\n",
    "                mkr='s'\n",
    "\n",
    "            plt.plot(x_coord[k], y_coord[k], marker=mkr, ms=10, color=colorCode, zorder=10)\n",
    "            plt.text(x_coord[k]-20, y_coord[k]+8, string, fontsize=12, color=colorCode)\n",
    "\n",
    "        plt.axis('off')\n",
    "        plt.title(data[\"Galaxy\"][i], fontsize=24, fontweight='bold')\n",
    "        plt.tight_layout()\n",
    "        plt.savefig('../Figures/2.ESO_Galaxy_Images/' + data[\"Galaxy\"][i] + '.png')\n",
    "        if (len(found_name) > 0):\n",
    "            plt.savefig('../Figures/2.ESO_SNe_Galaxy_Images/' + data[\"Galaxy\"][i] + '.png')\n",
    "        plt.close()"
   ]
  },
  {
   "cell_type": "code",
   "execution_count": 12,
   "metadata": {},
   "outputs": [
    {
     "name": "stderr",
     "output_type": "stream",
     "text": [
      "<ipython-input-12-386ab1ee2047>:11: RuntimeWarning: divide by zero encountered in log10\n",
      "  logmap = np.log10(map)\n"
     ]
    }
   ],
   "source": [
    "# Plot MUSE Galaxy Files with SNe\n",
    "inMuse = []\n",
    "\n",
    "for i in range(len(data[\"Galaxy\"])):\n",
    "    \n",
    "    if (data[\"MUSEmap\"][i] != \"\" and os.path.isfile(data[\"MUSEmap\"][i])):     \n",
    "    \n",
    "        found_name, found_type, found_ra, found_dec, x_coord, y_coord, map, naxis1, naxis2 = check_in_image(data['Ra'], data['Dec'], data['Supernova'], data['Type'], data[\"MUSEmap\"][i])\n",
    "    \n",
    "        plt.figure(figsize=(7, 7))\n",
    "        logmap = np.log10(map)\n",
    "        plt.imshow(logmap, origin='lower', interpolation='nearest', zorder=1)\n",
    "\n",
    "        for k in range(len(found_name)):\n",
    "            inMuse.append(found_name[k])\n",
    "            string = found_name[k]\n",
    "\n",
    "            if (len(found_type[k])>1):\n",
    "                if found_type[k][1] == \"I\":\n",
    "                    #colorCode = 'chartreuse'\n",
    "                    colorCode = 'black'\n",
    "                    mkr = '*'\n",
    "                elif found_type[k][1] == \"b\" or found_type[k][1] == \"c\":\n",
    "                    #colorCode = 'salmon'\n",
    "                    colorCode = 'darkblue'\n",
    "                    mkr = '^'\n",
    "                elif found_type[k][1] == \"a\":\n",
    "                    #colorCode = 'deeppink'\n",
    "                    colorCode = 'indigo'\n",
    "                    mkr = 'o'\n",
    "                else:\n",
    "                    colorCode = 'magenta'\n",
    "                    mkr = '>'\n",
    "            else:\n",
    "                #colorCode = 'cyan'\n",
    "                colorCode = 'maroon'\n",
    "                mkr='s'\n",
    "\n",
    "            plt.plot(x_coord[k], y_coord[k], marker=mkr, ms=10, color=colorCode, zorder=10)\n",
    "            plt.text(x_coord[k]-20, y_coord[k]+8, string, fontsize=12, color=colorCode)\n",
    "\n",
    "        plt.axis('off')\n",
    "        plt.title(data[\"Galaxy\"][i], fontsize=24, fontweight='bold')\n",
    "        plt.tight_layout()\n",
    "        plt.savefig('../Figures/2.MUSE_Galaxy_Images/' + data[\"Galaxy\"][i] + '.png')\n",
    "        if (len(found_name) > 0):\n",
    "            plt.savefig('../Figures/2.MUSE_SNe_Galaxy_Images/' + data[\"Galaxy\"][i] + '.png')\n",
    "        plt.close()"
   ]
  },
  {
   "cell_type": "code",
   "execution_count": 13,
   "metadata": {},
   "outputs": [],
   "source": [
    "#Organize the MUSE sample (remove repeat entries and remove those outside of maps)\n",
    "muselist = list( dict.fromkeys(inMuse) )\n",
    "\n",
    "inMuseSample = []\n",
    "\n",
    "for i in range(len(database[\"Supernova\"])):\n",
    "    #remove by hand the SNe that are just outside of MUSE maps\n",
    "    if database[\"Supernova\"][i] == \"SN2013ej\" or database[\"Supernova\"][i] == \"SN1979C\":\n",
    "        inMuseSample.append(\"False\")\n",
    "    elif database[\"Supernova\"][i] in muselist:\n",
    "        inMuseSample.append(\"True\")\n",
    "    else: \n",
    "        inMuseSample.append(\"False\")\n",
    "        \n",
    "# for i in range(len(database)):\n",
    "#     print(database[\"Supernova\"][i], inMuseSample[i])\n",
    "    "
   ]
  },
  {
   "cell_type": "code",
   "execution_count": 14,
   "metadata": {},
   "outputs": [
    {
     "name": "stderr",
     "output_type": "stream",
     "text": [
      "WARNING: AstropyDeprecationWarning: ../Data/2.museSample.csv already exists. Automatically overwriting ASCII files is deprecated. Use the argument 'overwrite=True' in the future. [astropy.io.ascii.ui]\n"
     ]
    }
   ],
   "source": [
    "# Make a table of organized MUSE sample\n",
    "museSample = Table({\"Supernova\": database[\"Supernova\"],\n",
    "                    \"InMuseSample\" : inMuseSample})\n",
    "\n",
    "museSample.write(\"../Data/2.museSample.csv\", format = \"csv\")"
   ]
  },
  {
   "cell_type": "code",
   "execution_count": null,
   "metadata": {},
   "outputs": [],
   "source": [
    "# populate plots and legend labels, gals, sigma, decs, xarr, yarr "
   ]
  },
  {
   "cell_type": "code",
   "execution_count": null,
   "metadata": {},
   "outputs": [],
   "source": [
    "from matplotlib.patches import Circle\n",
    "# need to use WCS to find what size the image is and then do a fraction of it \n",
    "# convert pixels to \n",
    "\n",
    "markerShapes = [\"o\", \"s\", \"*\", \"D\", \"X\", \"H\", \"v\"]\n",
    "markerSizes  = [120,120,200,120,120,120,120]\n",
    "\n",
    "current_cmap = plt.get_cmap(\"magma\")\n",
    "current_cmap.set_bad(\"black\")\n",
    "\n",
    "import math\n",
    "i,j,m=0,0,0\n",
    "PLOTS_PER_ROW = 3\n",
    "fig, axs = plt.subplots(math.ceil(len(plots)/PLOTS_PER_ROW),PLOTS_PER_ROW, figsize=(20, 60))\n",
    "for plot in plots:\n",
    "    draw_circle = plt.Circle((corner[m], corner[m]),ppb[m], fill = True, color = 'white')\n",
    "\n",
    "    xArr, yArr = wcss[m].wcs_world2pix(ras[m],decs[m],0)\n",
    "    logplot = np.log10(plot)\n",
    "    axs[i][j].imshow(logplot, cmap=current_cmap, aspect=\"equal\", origin = \"lower\", interpolation = \"nearest\", vmin = -0.5, vmax = 2.0)\n",
    "    axs[i][j].set_title(gals[m].upper(), fontsize=20)\n",
    "    axs[i][j].contour(sigma[m], [3], colors = [\"white\"], linestyles = (\"-\"))\n",
    "    axs[i][j].set_xticks([])\n",
    "    axs[i][j].set_yticks([])\n",
    "    axs[i][j].add_patch(draw_circle)\n",
    "    for n in range(len(decs[m])):\n",
    "        axs[i][j].scatter(xArr[n], yArr[n], color = \"black\", marker = markerShapes[n], s = markerSizes[n]+30)\n",
    "        axs[i][j].scatter(xArr[n], yArr[n], color = \"lime\", marker = markerShapes[n], s = markerSizes[n], edgecolor=\"black\", label = legendLabels[m][n])\n",
    "    axs[i][j].legend(loc=\"best\", fontsize=14, handletextpad=0.007)\n",
    "\n",
    "    j+=1\n",
    "    if j%PLOTS_PER_ROW==0:\n",
    "        i+=1\n",
    "        j=0\n",
    "    m +=1\n",
    "plt.tight_layout(pad=0.1, w_pad=0.1, h_pad=0.1)\n",
    "plt.show()\n",
    "fig.savefig(\"../Figures/AllSNeInGalaxies.png\", dpi=300)\n",
    "   \n",
    "\n",
    "print()"
   ]
  }
 ],
 "metadata": {
  "kernelspec": {
   "display_name": "Python 3",
   "language": "python",
   "name": "python3"
  },
  "language_info": {
   "codemirror_mode": {
    "name": "ipython",
    "version": 3
   },
   "file_extension": ".py",
   "mimetype": "text/x-python",
   "name": "python",
   "nbconvert_exporter": "python",
   "pygments_lexer": "ipython3",
   "version": "3.8.10"
  }
 },
 "nbformat": 4,
 "nbformat_minor": 2
}

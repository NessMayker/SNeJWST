{
 "cells": [
  {
   "cell_type": "markdown",
   "metadata": {},
   "source": [
    "This notebook makes the latex table for the SNeHa sample"
   ]
  },
  {
   "cell_type": "code",
   "execution_count": 1,
   "metadata": {},
   "outputs": [],
   "source": [
    "#import packages and formatting statements\n",
    "\n",
    "import numpy as np\n",
    "from matplotlib import pyplot as plt\n",
    "import astropy.io.fits as pyfits\n",
    "from astropy.table import Table, join\n",
    "from astropy.wcs import WCS\n",
    "from astropy.io import ascii\n",
    "import os\n"
   ]
  },
  {
   "cell_type": "code",
   "execution_count": 2,
   "metadata": {
    "scrolled": true
   },
   "outputs": [
    {
     "data": {
      "text/html": [
       "<i>Table length=37</i>\n",
       "<table id=\"table140475834122976\" class=\"table-striped table-bordered table-condensed\">\n",
       "<thead><tr><th>Galaxy</th><th>Supernova</th><th>Ra</th><th>Dec</th><th>ESO_xCoord</th><th>ESO_yCoord</th><th>Type</th><th>ESO_Intensity</th><th>MUSE_xCoord</th><th>MUSE_yCoord</th><th>MUSE_Intensity</th><th>ESO-MPG_Hasub_wcomb_corr</th><th>MUSEResolution</th><th>MUSEmap</th><th>Removed</th></tr></thead>\n",
       "<thead><tr><th>str7</th><th>str11</th><th>float64</th><th>float64</th><th>float64</th><th>float64</th><th>str12</th><th>float64</th><th>float64</th><th>float64</th><th>float64</th><th>str84</th><th>float64</th><th>str80</th><th>str5</th></tr></thead>\n",
       "<tr><td>NGC0628</td><td>SN2013ej</td><td>24.200666666666667</td><td>15.758611111111112</td><td>2100.1951571946192</td><td>2112.559714338542</td><td>II</td><td>0.09700711</td><td>243.19103784243157</td><td>305.29329959411643</td><td>nan</td><td>/home/mayker.1/Desktop/SNeHaLargeData/HaSUB_wcomb_corr/NGC0628_Hasub_flux_corrs.fits</td><td>0.92</td><td>/data/fourier/sun.1608/PHANGS/MUSE/DR2.1/MUSEDAP/copt/NGC0628-0.92asec_MAPS.fits</td><td>False</td></tr>\n",
       "<tr><td>NGC0628</td><td>SN2019krl</td><td>24.2067875</td><td>15.77946388888889</td><td>2011.0536442066714</td><td>2428.5985142409477</td><td>IIn/LBV</td><td>2.2089531</td><td>137.18487193542887</td><td>680.6496794953687</td><td>447.33069091690675</td><td>/home/mayker.1/Desktop/SNeHaLargeData/HaSUB_wcomb_corr/NGC0628_Hasub_flux_corrs.fits</td><td>0.92</td><td>/data/fourier/sun.1608/PHANGS/MUSE/DR2.1/MUSEDAP/copt/NGC0628-0.92asec_MAPS.fits</td><td>True</td></tr>\n",
       "<tr><td>NGC1087</td><td>SN1995V</td><td>41.61152777777777</td><td>-0.4987861111111111</td><td>648.7610232419815</td><td>747.9909198104285</td><td>II</td><td>5.0002465</td><td>183.09993631014947</td><td>450.72004174402633</td><td>2663.371834437333</td><td>/home/mayker.1/Desktop/SNeHaLargeData/HaSUB_wcomb_corr/NGC1087_Hasub_flux_corrs.fits</td><td>0.92</td><td>/data/fourier/sun.1608/PHANGS/MUSE/DR2.1/MUSEDAP/copt/NGC1087-0.92asec_MAPS.fits</td><td>False</td></tr>\n",
       "<tr><td>NGC1365</td><td>SN2012fr</td><td>53.40057916666666</td><td>-36.12676944444445</td><td>3041.428195030292</td><td>3237.1579264657776</td><td>Ia</td><td>0.36029622</td><td>756.0731074267953</td><td>702.5736600562143</td><td>69.29969489043229</td><td>/home/mayker.1/Desktop/SNeHaLargeData/HaSUB_wcomb_corr/NGC1365_Hasub_flux_corrs.fits</td><td>1.15</td><td>/data/fourier/sun.1608/PHANGS/MUSE/DR2.1/MUSEDAP/copt/NGC1365-1.15asec_MAPS.fits</td><td>False</td></tr>\n",
       "<tr><td>NGC1365</td><td>SN2001du</td><td>53.3713125</td><td>-36.142111111111106</td><td>3399.846121958709</td><td>3004.9164893583365</td><td>II</td><td>1.5359482</td><td>1181.490382249507</td><td>426.35406918108174</td><td>929.5770449215998</td><td>/home/mayker.1/Desktop/SNeHaLargeData/HaSUB_wcomb_corr/NGC1365_Hasub_flux_corrs.fits</td><td>1.15</td><td>/data/fourier/sun.1608/PHANGS/MUSE/DR2.1/MUSEDAP/copt/NGC1365-1.15asec_MAPS.fits</td><td>False</td></tr>\n",
       "<tr><td>NGC1365</td><td>SN1983V</td><td>53.381876388888884</td><td>-36.14859166666667</td><td>3270.6237389153885</td><td>2906.610095778981</td><td>Ic</td><td>9.090737</td><td>1027.9095105186898</td><td>309.74396493992725</td><td>5743.3576143866185</td><td>/home/mayker.1/Desktop/SNeHaLargeData/HaSUB_wcomb_corr/NGC1365_Hasub_flux_corrs.fits</td><td>1.15</td><td>/data/fourier/sun.1608/PHANGS/MUSE/DR2.1/MUSEDAP/copt/NGC1365-1.15asec_MAPS.fits</td><td>False</td></tr>\n",
       "<tr><td>NGC1365</td><td>SN1957C</td><td>53.38349999999999</td><td>-36.11770833333333</td><td>3250.4029666345923</td><td>3374.662468105187</td><td>unclassified</td><td>2.834359</td><td>1004.4155369313344</td><td>865.6486483514018</td><td>1697.5272118916866</td><td>/home/mayker.1/Desktop/SNeHaLargeData/HaSUB_wcomb_corr/NGC1365_Hasub_flux_corrs.fits</td><td>1.15</td><td>/data/fourier/sun.1608/PHANGS/MUSE/DR2.1/MUSEDAP/copt/NGC1365-1.15asec_MAPS.fits</td><td>False</td></tr>\n",
       "<tr><td>NGC1433</td><td>SN1985P</td><td>55.52640625</td><td>-47.209987222222225</td><td>1352.5400394712622</td><td>1741.4226110685222</td><td>II</td><td>0.4982906</td><td>495.96858214324016</td><td>663.2932425397541</td><td>162.95929157157056</td><td>/home/mayker.1/Desktop/SNeHaLargeData/HaSUB_wcomb_corr/NGC1433_Hasub_flux_corrs.fits</td><td>0.91</td><td>/data/fourier/sun.1608/PHANGS/MUSE/DR2.1/MUSEDAP/copt/NGC1433-0.91asec_MAPS.fits</td><td>False</td></tr>\n",
       "<tr><td>NGC1566</td><td>ASASSN-14ha</td><td>65.0058875</td><td>-54.93807777777778</td><td>1784.358147614364</td><td>1820.201410151274</td><td>II</td><td>6.804637</td><td>408.4277260277734</td><td>443.3346781401191</td><td>2555.621138465285</td><td>/home/mayker.1/Desktop/SNeHaLargeData/HaSUB_wcomb_corr/NGC1566_Hasub_flux_corrs.fits</td><td>0.8</td><td>/data/fourier/sun.1608/PHANGS/MUSE/DR2.1/MUSEDAP/copt/NGC1566-0.80asec_MAPS.fits</td><td>False</td></tr>\n",
       "<tr><td>NGC1566</td><td>Gaia21fml</td><td>64.9725</td><td>-54.9481</td><td>2075.2200334502104</td><td>1668.7737200842032</td><td>Ia</td><td>0.17611548</td><td>753.589032385391</td><td>262.87228040214933</td><td>99.65209663041514</td><td>/home/mayker.1/Desktop/SNeHaLargeData/HaSUB_wcomb_corr/NGC1566_Hasub_flux_corrs.fits</td><td>0.8</td><td>/data/fourier/sun.1608/PHANGS/MUSE/DR2.1/MUSEDAP/copt/NGC1566-0.80asec_MAPS.fits</td><td>False</td></tr>\n",
       "<tr><td>...</td><td>...</td><td>...</td><td>...</td><td>...</td><td>...</td><td>...</td><td>...</td><td>...</td><td>...</td><td>...</td><td>...</td><td>...</td><td>...</td><td>...</td></tr>\n",
       "<tr><td>NGC4303</td><td>SN2014dt</td><td>185.48991666666666</td><td>4.471777777777778</td><td>1569.1902311785852</td><td>1705.7597160581522</td><td>Ia</td><td>1.4960612</td><td>251.3033408109328</td><td>414.26179134572914</td><td>570.776247869652</td><td>/home/mayker.1/Desktop/SNeHaLargeData/HaSUB_wcomb_corr/NGC4303_Hasub_flux_corrs.fits</td><td>0.78</td><td>/data/fourier/sun.1608/PHANGS/MUSE/DR2.1/MUSEDAP/copt/NGC4303-0.78asec_MAPS.fits</td><td>False</td></tr>\n",
       "<tr><td>NGC4303</td><td>AT2021ilb</td><td>185.47135</td><td>4.469083333333334</td><td>1849.7396508748284</td><td>1664.9015526849198</td><td>Candidate</td><td>3.892858</td><td>584.486487082436</td><td>365.760978657737</td><td>2437.537010823405</td><td>/home/mayker.1/Desktop/SNeHaLargeData/HaSUB_wcomb_corr/NGC4303_Hasub_flux_corrs.fits</td><td>0.78</td><td>/data/fourier/sun.1608/PHANGS/MUSE/DR2.1/MUSEDAP/copt/NGC4303-0.78asec_MAPS.fits</td><td>True</td></tr>\n",
       "<tr><td>NGC4303</td><td>SN1964F</td><td>185.4698125</td><td>4.473770833333334</td><td>1872.9758347319894</td><td>1735.947240139135</td><td>II</td><td>0.684507</td><td>612.0763054158263</td><td>450.1362898317239</td><td>230.26304785184644</td><td>/home/mayker.1/Desktop/SNeHaLargeData/HaSUB_wcomb_corr/NGC4303_Hasub_flux_corrs.fits</td><td>0.78</td><td>/data/fourier/sun.1608/PHANGS/MUSE/DR2.1/MUSEDAP/copt/NGC4303-0.78asec_MAPS.fits</td><td>False</td></tr>\n",
       "<tr><td>NGC4321</td><td>SN2006X</td><td>185.72488194444443</td><td>15.809006481481482</td><td>1593.6870431673428</td><td>1334.0665143351644</td><td>Ia</td><td>-0.3192859</td><td>653.7340413781637</td><td>214.79265261232624</td><td>192.23003479227665</td><td>/home/mayker.1/Desktop/SNeHaLargeData/HaSUB_wcomb_corr/NGC4321_Hasub_flux_corrs.fits</td><td>1.16</td><td>/data/fourier/sun.1608/PHANGS/MUSE/DR2.1/MUSEDAP/copt/NGC4321-1.16asec_MAPS.fits</td><td>False</td></tr>\n",
       "<tr><td>NGC4321</td><td>SN2019ehk</td><td>185.73393055555553</td><td>15.826070370370369</td><td>1461.8231958410274</td><td>1592.6808703794022</td><td>Ib</td><td>-0.12679927</td><td>497.01876121421765</td><td>521.9387800195145</td><td>270.51022196339994</td><td>/home/mayker.1/Desktop/SNeHaLargeData/HaSUB_wcomb_corr/NGC4321_Hasub_flux_corrs.fits</td><td>1.16</td><td>/data/fourier/sun.1608/PHANGS/MUSE/DR2.1/MUSEDAP/copt/NGC4321-1.16asec_MAPS.fits</td><td>False</td></tr>\n",
       "<tr><td>NGC4321</td><td>SN2020oi</td><td>185.72892708333336</td><td>15.8236125</td><td>1534.761052997933</td><td>1555.416071038866</td><td>Ic</td><td>34.89857</td><td>583.6685490767559</td><td>477.69842475534944</td><td>20132.40854565195</td><td>/home/mayker.1/Desktop/SNeHaLargeData/HaSUB_wcomb_corr/NGC4321_Hasub_flux_corrs.fits</td><td>1.16</td><td>/data/fourier/sun.1608/PHANGS/MUSE/DR2.1/MUSEDAP/copt/NGC4321-1.16asec_MAPS.fits</td><td>False</td></tr>\n",
       "<tr><td>NGC4321</td><td>SN1979C</td><td>185.74422222222222</td><td>15.797765277777778</td><td>1311.6424623703506</td><td>1163.797662807318</td><td>II</td><td>2.3315406</td><td>318.76753840358924</td><td>12.450869989557305</td><td>nan</td><td>/home/mayker.1/Desktop/SNeHaLargeData/HaSUB_wcomb_corr/NGC4321_Hasub_flux_corrs.fits</td><td>1.16</td><td>/data/fourier/sun.1608/PHANGS/MUSE/DR2.1/MUSEDAP/copt/NGC4321-1.16asec_MAPS.fits</td><td>False</td></tr>\n",
       "<tr><td>NGC4321</td><td>SN1959E</td><td>185.74543194444445</td><td>15.816989814814816</td><td>1294.09699704579</td><td>1455.1265143720866</td><td>I</td><td>1.8478534</td><td>297.8328298271027</td><td>358.4935857458107</td><td>1267.1885378564093</td><td>/home/mayker.1/Desktop/SNeHaLargeData/HaSUB_wcomb_corr/NGC4321_Hasub_flux_corrs.fits</td><td>1.16</td><td>/data/fourier/sun.1608/PHANGS/MUSE/DR2.1/MUSEDAP/copt/NGC4321-1.16asec_MAPS.fits</td><td>False</td></tr>\n",
       "<tr><td>NGC4321</td><td>SN1901B</td><td>185.6970833333333</td><td>15.82375</td><td>1999.025186668254</td><td>1557.4202813738416</td><td>I</td><td>0.9168733</td><td>1135.1351509168808</td><td>480.2301246432617</td><td>830.4634374296642</td><td>/home/mayker.1/Desktop/SNeHaLargeData/HaSUB_wcomb_corr/NGC4321_Hasub_flux_corrs.fits</td><td>1.16</td><td>/data/fourier/sun.1608/PHANGS/MUSE/DR2.1/MUSEDAP/copt/NGC4321-1.16asec_MAPS.fits</td><td>False</td></tr>\n",
       "<tr><td>NGC4321</td><td>PTSS-19clju</td><td>185.73407</td><td>15.826055</td><td>1459.7901352669974</td><td>1592.448502816314</td><td>unclassified</td><td>1.0584087</td><td>494.6039059713586</td><td>521.6621063526735</td><td>265.2989619893281</td><td>/home/mayker.1/Desktop/SNeHaLargeData/HaSUB_wcomb_corr/NGC4321_Hasub_flux_corrs.fits</td><td>1.16</td><td>/data/fourier/sun.1608/PHANGS/MUSE/DR2.1/MUSEDAP/copt/NGC4321-1.16asec_MAPS.fits</td><td>True</td></tr>\n",
       "</table>"
      ],
      "text/plain": [
       "<Table length=37>\n",
       " Galaxy  Supernova  ... Removed\n",
       "  str7     str11    ...   str5 \n",
       "------- ----------- ... -------\n",
       "NGC0628    SN2013ej ...   False\n",
       "NGC0628   SN2019krl ...    True\n",
       "NGC1087     SN1995V ...   False\n",
       "NGC1365    SN2012fr ...   False\n",
       "NGC1365    SN2001du ...   False\n",
       "NGC1365     SN1983V ...   False\n",
       "NGC1365     SN1957C ...   False\n",
       "NGC1433     SN1985P ...   False\n",
       "NGC1566 ASASSN-14ha ...   False\n",
       "NGC1566   Gaia21fml ...   False\n",
       "    ...         ... ...     ...\n",
       "NGC4303    SN2014dt ...   False\n",
       "NGC4303   AT2021ilb ...    True\n",
       "NGC4303     SN1964F ...   False\n",
       "NGC4321     SN2006X ...   False\n",
       "NGC4321   SN2019ehk ...   False\n",
       "NGC4321    SN2020oi ...   False\n",
       "NGC4321     SN1979C ...   False\n",
       "NGC4321     SN1959E ...   False\n",
       "NGC4321     SN1901B ...   False\n",
       "NGC4321 PTSS-19clju ...    True"
      ]
     },
     "execution_count": 2,
     "metadata": {},
     "output_type": "execute_result"
    }
   ],
   "source": [
    "# Compile galaxy and OSC objects\n",
    "\n",
    "allDataFile = '../Data/2.SNeHaMasterCat.csv'\n",
    "allData = Table.read(allDataFile, format = \"csv\")\n",
    "\n",
    "allData\n",
    "\n"
   ]
  },
  {
   "cell_type": "code",
   "execution_count": 3,
   "metadata": {},
   "outputs": [],
   "source": [
    "# make Table for Latex Table\n",
    "ra   = [float(x) for x in allData[\"Ra\"]]\n",
    "ra   = [round(x,4) for x in ra]\n",
    "dec  = [float(x) for x in allData[\"Dec\"]]\n",
    "dec  = [round(x,4) for x in dec]\n",
    "\n",
    "inSample, inMUSE, inESO, paper = [],[],[],[]\n",
    "for i in range(len(allData[\"Removed\"])):\n",
    "    paper.append(\"?\")\n",
    "    if allData[\"Removed\"][i] == \"False\":\n",
    "        inSample.append(\"/checkmark\")\n",
    "    else: \n",
    "        inSample.append(\"-\")\n",
    "    if os.path.isfile(allData[\"MUSEmap\"][i]):\n",
    "        inMUSE.append(\"/checkmark\")\n",
    "    else:\n",
    "        inMUSE.append(\"-\")\n",
    "    if os.path.isfile(allData[\"ESO-MPG_Hasub_wcomb_corr\"][i]):\n",
    "        inESO.append(\"/checkmark\")\n",
    "    else:\n",
    "        inESO.append(\"-\")        \n",
    "    \n",
    "\n",
    "texTable = Table({\"Galaxy\"    : allData[\"Galaxy\"],\n",
    "                  \"Supernova\" : allData[\"Supernova\"],\n",
    "                  \"Type\"      : allData[\"Type\"],\n",
    "                  \"Ra\"        : ra,\n",
    "                  \"Dec\"       : dec,\n",
    "                  \"In Sample\" : inSample,\n",
    "                  \"In MUSE\"   : inMUSE,\n",
    "                  \"In ESO-MPG\": inESO,\n",
    "                  \"Reference\" : paper})"
   ]
  },
  {
   "cell_type": "code",
   "execution_count": 4,
   "metadata": {},
   "outputs": [],
   "source": [
    "ascii.write(texTable, '../Data/2.SNeHaMaster.tex', format='latex', fast_writer=False, overwrite = True)  "
   ]
  },
  {
   "cell_type": "code",
   "execution_count": null,
   "metadata": {},
   "outputs": [],
   "source": []
  }
 ],
 "metadata": {
  "kernelspec": {
   "display_name": "Python 3",
   "language": "python",
   "name": "python3"
  },
  "language_info": {
   "codemirror_mode": {
    "name": "ipython",
    "version": 3
   },
   "file_extension": ".py",
   "mimetype": "text/x-python",
   "name": "python",
   "nbconvert_exporter": "python",
   "pygments_lexer": "ipython3",
   "version": "3.8.10"
  }
 },
 "nbformat": 4,
 "nbformat_minor": 2
}

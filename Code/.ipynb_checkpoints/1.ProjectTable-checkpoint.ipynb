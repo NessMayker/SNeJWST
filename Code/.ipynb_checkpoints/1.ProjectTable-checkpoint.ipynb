{
 "cells": [
  {
   "cell_type": "markdown",
   "id": "da519e92",
   "metadata": {},
   "source": [
    "This notebook pulls the MUSE and ESO-MPG data tables and joins them, compiling a database for this project."
   ]
  },
  {
   "cell_type": "code",
   "execution_count": 1,
   "id": "fa194dc5",
   "metadata": {},
   "outputs": [],
   "source": [
    "import astropy\n",
    "from astropy.table import Table\n",
    "from astropy.io import ascii\n",
    "\n",
    "NBtable = Table.read('../Data/0.NBdata.csv')  \n",
    "MUSEtable = Table.read('../Data/0.MUSEdata.csv')\n",
    "\n",
    "ProjectTable = astropy.table.join(NBtable, MUSEtable, join_type = \"outer\")"
   ]
  },
  {
   "cell_type": "code",
   "execution_count": 2,
   "id": "e381990c",
   "metadata": {},
   "outputs": [
    {
     "data": {
      "text/html": [
       "<i>Table length=33</i>\n",
       "<table id=\"table139991607850272\" class=\"table-striped table-bordered table-condensed\">\n",
       "<thead><tr><th>Galaxy</th><th>ESO-MPG_Hasub_wcomb_corr</th><th>MUSEResolution</th><th>MUSEmap</th></tr></thead>\n",
       "<thead><tr><th>str8</th><th>str85</th><th>float64</th><th>str80</th></tr></thead>\n",
       "<tr><td>IC5332</td><td>/home/mayker.1/Desktop/SNeHaLargeData/HaSUB_wcomb_corr/IC5332_Hasub_flux_corrs.fits</td><td>0.87</td><td>/data/fourier/sun.1608/PHANGS/MUSE/DR2.1/MUSEDAP/copt/IC5332-0.87asec_MAPS.fits</td></tr>\n",
       "<tr><td>NGC0628</td><td>/home/mayker.1/Desktop/SNeHaLargeData/HaSUB_wcomb_corr/NGC0628_Hasub_flux_corrs.fits</td><td>0.92</td><td>/data/fourier/sun.1608/PHANGS/MUSE/DR2.1/MUSEDAP/copt/NGC0628-0.92asec_MAPS.fits</td></tr>\n",
       "<tr><td>NGC1087</td><td>/home/mayker.1/Desktop/SNeHaLargeData/HaSUB_wcomb_corr/NGC1087_Hasub_flux_corrs.fits</td><td>0.92</td><td>/data/fourier/sun.1608/PHANGS/MUSE/DR2.1/MUSEDAP/copt/NGC1087-0.92asec_MAPS.fits</td></tr>\n",
       "<tr><td>NGC1300</td><td>/home/mayker.1/Desktop/SNeHaLargeData/HaSUB_wcomb_corr/NGC1300_Hasub_flux_corrs.fits</td><td>0.89</td><td>/data/fourier/sun.1608/PHANGS/MUSE/DR2.1/MUSEDAP/copt/NGC1300-0.89asec_MAPS.fits</td></tr>\n",
       "<tr><td>NGC1365</td><td>/home/mayker.1/Desktop/SNeHaLargeData/HaSUB_wcomb_corr/NGC1365_Hasub_flux_corrs.fits</td><td>1.15</td><td>/data/fourier/sun.1608/PHANGS/MUSE/DR2.1/MUSEDAP/copt/NGC1365-1.15asec_MAPS.fits</td></tr>\n",
       "<tr><td>NGC1385</td><td>/home/mayker.1/Desktop/SNeHaLargeData/HaSUB_wcomb_corr/NGC1385_Hasub_flux_corrs.fits</td><td>0.77</td><td>/data/fourier/sun.1608/PHANGS/MUSE/DR2.1/MUSEDAP/copt/NGC1385-0.77asec_MAPS.fits</td></tr>\n",
       "<tr><td>NGC1433</td><td>/home/mayker.1/Desktop/SNeHaLargeData/HaSUB_wcomb_corr/NGC1433_Hasub_flux_corrs.fits</td><td>0.91</td><td>/data/fourier/sun.1608/PHANGS/MUSE/DR2.1/MUSEDAP/copt/NGC1433-0.91asec_MAPS.fits</td></tr>\n",
       "<tr><td>NGC1512</td><td>/home/mayker.1/Desktop/SNeHaLargeData/HaSUB_wcomb_corr/NGC1512_Hasub_flux_corrs.fits</td><td>1.25</td><td>/data/fourier/sun.1608/PHANGS/MUSE/DR2.1/MUSEDAP/copt/NGC1512-1.25asec_MAPS.fits</td></tr>\n",
       "<tr><td>NGC1566</td><td>/home/mayker.1/Desktop/SNeHaLargeData/HaSUB_wcomb_corr/NGC1566_Hasub_flux_corrs.fits</td><td>0.8</td><td>/data/fourier/sun.1608/PHANGS/MUSE/DR2.1/MUSEDAP/copt/NGC1566-0.80asec_MAPS.fits</td></tr>\n",
       "<tr><td>NGC1672</td><td>/home/mayker.1/Desktop/SNeHaLargeData/HaSUB_wcomb_corr/NGC1672_Hasub_flux_corrs.fits</td><td>0.96</td><td>/data/fourier/sun.1608/PHANGS/MUSE/DR2.1/MUSEDAP/copt/NGC1672-0.96asec_MAPS.fits</td></tr>\n",
       "<tr><td>...</td><td>...</td><td>...</td><td>...</td></tr>\n",
       "<tr><td>NGC4540</td><td>/home/mayker.1/Desktop/SNeHaLargeData/HaSUB_wcomb_corr/NGC4540_Hasub_flux_corrs.fits</td><td>--</td><td>--</td></tr>\n",
       "<tr><td>NGC4548</td><td>/home/mayker.1/Desktop/SNeHaLargeData/HaSUB_wcomb_corr/NGC4548_Hasub_flux_corrs.fits</td><td>--</td><td>--</td></tr>\n",
       "<tr><td>NGC4569</td><td>/home/mayker.1/Desktop/SNeHaLargeData/HaSUB_wcomb_corr/NGC4569_Hasub_flux_corrs.fits</td><td>--</td><td>--</td></tr>\n",
       "<tr><td>NGC4571</td><td>/home/mayker.1/Desktop/SNeHaLargeData/HaSUB_wcomb_corr/NGC4571_Hasub_flux_corrs.fits</td><td>--</td><td>--</td></tr>\n",
       "<tr><td>NGC4654</td><td>/home/mayker.1/Desktop/SNeHaLargeData/HaSUB_wcomb_corr/NGC4654_Hasub_flux_corrs.fits</td><td>--</td><td>--</td></tr>\n",
       "<tr><td>NGC4689</td><td>/home/mayker.1/Desktop/SNeHaLargeData/HaSUB_wcomb_corr/NGC4689_Hasub_flux_corrs.fits</td><td>--</td><td>--</td></tr>\n",
       "<tr><td>NGC4731</td><td>/home/mayker.1/Desktop/SNeHaLargeData/HaSUB_wcomb_corr/NGC4731_Hasub_flux_corrs.fits</td><td>--</td><td>--</td></tr>\n",
       "<tr><td>NGC5068</td><td>/home/mayker.1/Desktop/SNeHaLargeData/HaSUB_wcomb_corr/NGC5068_Hasub_flux_corrs.fits</td><td>1.04</td><td>/data/fourier/sun.1608/PHANGS/MUSE/DR2.1/MUSEDAP/copt/NGC5068-1.04asec_MAPS.fits</td></tr>\n",
       "<tr><td>NGC6744</td><td>/home/mayker.1/Desktop/SNeHaLargeData/HaSUB_wcomb_corr/NGC6744_Hasub_flux_corrs.fits</td><td>--</td><td>--</td></tr>\n",
       "<tr><td>NGC7496</td><td>--</td><td>0.89</td><td>/data/fourier/sun.1608/PHANGS/MUSE/DR2.1/MUSEDAP/copt/NGC7496-0.89asec_MAPS.fits</td></tr>\n",
       "</table>"
      ],
      "text/plain": [
       "<Table length=33>\n",
       " Galaxy ...\n",
       "  str8  ...\n",
       "------- ...\n",
       " IC5332 ...\n",
       "NGC0628 ...\n",
       "NGC1087 ...\n",
       "NGC1300 ...\n",
       "NGC1365 ...\n",
       "NGC1385 ...\n",
       "NGC1433 ...\n",
       "NGC1512 ...\n",
       "NGC1566 ...\n",
       "NGC1672 ...\n",
       "    ... ...\n",
       "NGC4540 ...\n",
       "NGC4548 ...\n",
       "NGC4569 ...\n",
       "NGC4571 ...\n",
       "NGC4654 ...\n",
       "NGC4689 ...\n",
       "NGC4731 ...\n",
       "NGC5068 ...\n",
       "NGC6744 ...\n",
       "NGC7496 ..."
      ]
     },
     "execution_count": 2,
     "metadata": {},
     "output_type": "execute_result"
    }
   ],
   "source": [
    "ProjectTable"
   ]
  },
  {
   "cell_type": "code",
   "execution_count": 3,
   "id": "442ef3f7",
   "metadata": {},
   "outputs": [],
   "source": [
    "ascii.write(ProjectTable, \"../Data/1.ProjectTable.tex\", format=\"latex\", overwrite=True)"
   ]
  },
  {
   "cell_type": "code",
   "execution_count": 4,
   "id": "313898e6",
   "metadata": {},
   "outputs": [],
   "source": [
    "ProjectTable.write(\"../Data/1.ProjectTable.csv\", format=\"csv\", overwrite=True)"
   ]
  },
  {
   "cell_type": "code",
   "execution_count": null,
   "id": "ac12d3ef",
   "metadata": {},
   "outputs": [],
   "source": []
  }
 ],
 "metadata": {
  "kernelspec": {
   "display_name": "Python 3",
   "language": "python",
   "name": "python3"
  },
  "language_info": {
   "codemirror_mode": {
    "name": "ipython",
    "version": 3
   },
   "file_extension": ".py",
   "mimetype": "text/x-python",
   "name": "python",
   "nbconvert_exporter": "python",
   "pygments_lexer": "ipython3",
   "version": "3.8.10"
  }
 },
 "nbformat": 4,
 "nbformat_minor": 5
}

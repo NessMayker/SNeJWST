{
 "cells": [
  {
   "cell_type": "markdown",
   "id": "da519e92",
   "metadata": {},
   "source": [
    "This notebook pulls the MUSE and ESO-MPG data tables and joins them, compiling a database for this project."
   ]
  },
  {
   "cell_type": "code",
   "execution_count": 20,
   "id": "fa194dc5",
   "metadata": {},
   "outputs": [],
   "source": [
    "import astropy\n",
    "from astropy.table import Table\n",
    "from astropy.io import ascii\n",
    "\n",
    "NBtable = Table.read('../Data/NBdata.csv')  \n",
    "MUSEtable = Table.read('../Data/MUSEdata.csv')\n",
    "\n",
    "ProjectTable = astropy.table.join(NBtable, MUSEtable, join_type = \"outer\")"
   ]
  },
  {
   "cell_type": "code",
   "execution_count": 21,
   "id": "e381990c",
   "metadata": {},
   "outputs": [
    {
     "data": {
      "text/html": [
       "<i>Table length=33</i>\n",
       "<table id=\"table140564229480944\" class=\"table-striped table-bordered table-condensed\">\n",
       "<thead><tr><th>Galaxy</th><th>ESO-MPG_Hasub_wcomb_corr</th><th>MUSEResolution</th><th>MUSEmap</th></tr></thead>\n",
       "<thead><tr><th>str8</th><th>str30</th><th>float64</th><th>str26</th></tr></thead>\n",
       "<tr><td>IC5332</td><td>IC5332_Hasub_flux_corrs.fits</td><td>0.87</td><td>IC5332-0.87asec_MAPS.fits</td></tr>\n",
       "<tr><td>NGC0628</td><td>NGC0628_Hasub_flux_corrs.fits</td><td>0.92</td><td>NGC0628-0.92asec_MAPS.fits</td></tr>\n",
       "<tr><td>NGC1087</td><td>NGC1087_Hasub_flux_corrs.fits</td><td>0.92</td><td>NGC1087-0.92asec_MAPS.fits</td></tr>\n",
       "<tr><td>NGC1300</td><td>NGC1300_Hasub_flux_corrs.fits</td><td>0.89</td><td>NGC1300-0.89asec_MAPS.fits</td></tr>\n",
       "<tr><td>NGC1365</td><td>NGC1365_Hasub_flux_corrs.fits</td><td>1.15</td><td>NGC1365-1.15asec_MAPS.fits</td></tr>\n",
       "<tr><td>NGC1385</td><td>NGC1385_Hasub_flux_corrs.fits</td><td>0.77</td><td>NGC1385-0.77asec_MAPS.fits</td></tr>\n",
       "<tr><td>NGC1433</td><td>NGC1433_Hasub_flux_corrs.fits</td><td>0.91</td><td>NGC1433-0.91asec_MAPS.fits</td></tr>\n",
       "<tr><td>NGC1512</td><td>NGC1512_Hasub_flux_corrs.fits</td><td>1.25</td><td>NGC1512-1.25asec_MAPS.fits</td></tr>\n",
       "<tr><td>NGC1566</td><td>NGC1566_Hasub_flux_corrs.fits</td><td>0.8</td><td>NGC1566-0.80asec_MAPS.fits</td></tr>\n",
       "<tr><td>NGC1672</td><td>NGC1672_Hasub_flux_corrs.fits</td><td>0.96</td><td>NGC1672-0.96asec_MAPS.fits</td></tr>\n",
       "<tr><td>...</td><td>...</td><td>...</td><td>...</td></tr>\n",
       "<tr><td>NGC4540</td><td>NGC4540_Hasub_flux_corrs.fits</td><td>--</td><td>--</td></tr>\n",
       "<tr><td>NGC4548</td><td>NGC4548_Hasub_flux_corrs.fits</td><td>--</td><td>--</td></tr>\n",
       "<tr><td>NGC4569</td><td>NGC4569_Hasub_flux_corrs.fits</td><td>--</td><td>--</td></tr>\n",
       "<tr><td>NGC4571</td><td>NGC4571_Hasub_flux_corrs.fits</td><td>--</td><td>--</td></tr>\n",
       "<tr><td>NGC4654</td><td>NGC4654_Hasub_flux_corrs.fits</td><td>--</td><td>--</td></tr>\n",
       "<tr><td>NGC4689</td><td>NGC4689_Hasub_flux_corrs.fits</td><td>--</td><td>--</td></tr>\n",
       "<tr><td>NGC4731</td><td>NGC4731_Hasub_flux_corrs.fits</td><td>--</td><td>--</td></tr>\n",
       "<tr><td>NGC5068</td><td>NGC5068_Hasub_flux_corrs.fits</td><td>1.04</td><td>NGC5068-1.04asec_MAPS.fits</td></tr>\n",
       "<tr><td>NGC6744</td><td>NGC6744_Hasub_flux_corrs.fits</td><td>--</td><td>--</td></tr>\n",
       "<tr><td>NGC7496</td><td>--</td><td>0.89</td><td>NGC7496-0.89asec_MAPS.fits</td></tr>\n",
       "</table>"
      ],
      "text/plain": [
       "<Table length=33>\n",
       " Galaxy    ESO-MPG_Hasub_wcomb_corr   MUSEResolution          MUSEmap          \n",
       "  str8              str30                float64               str26           \n",
       "------- ----------------------------- -------------- --------------------------\n",
       " IC5332  IC5332_Hasub_flux_corrs.fits           0.87  IC5332-0.87asec_MAPS.fits\n",
       "NGC0628 NGC0628_Hasub_flux_corrs.fits           0.92 NGC0628-0.92asec_MAPS.fits\n",
       "NGC1087 NGC1087_Hasub_flux_corrs.fits           0.92 NGC1087-0.92asec_MAPS.fits\n",
       "NGC1300 NGC1300_Hasub_flux_corrs.fits           0.89 NGC1300-0.89asec_MAPS.fits\n",
       "NGC1365 NGC1365_Hasub_flux_corrs.fits           1.15 NGC1365-1.15asec_MAPS.fits\n",
       "NGC1385 NGC1385_Hasub_flux_corrs.fits           0.77 NGC1385-0.77asec_MAPS.fits\n",
       "NGC1433 NGC1433_Hasub_flux_corrs.fits           0.91 NGC1433-0.91asec_MAPS.fits\n",
       "NGC1512 NGC1512_Hasub_flux_corrs.fits           1.25 NGC1512-1.25asec_MAPS.fits\n",
       "NGC1566 NGC1566_Hasub_flux_corrs.fits            0.8 NGC1566-0.80asec_MAPS.fits\n",
       "NGC1672 NGC1672_Hasub_flux_corrs.fits           0.96 NGC1672-0.96asec_MAPS.fits\n",
       "    ...                           ...            ...                        ...\n",
       "NGC4540 NGC4540_Hasub_flux_corrs.fits             --                         --\n",
       "NGC4548 NGC4548_Hasub_flux_corrs.fits             --                         --\n",
       "NGC4569 NGC4569_Hasub_flux_corrs.fits             --                         --\n",
       "NGC4571 NGC4571_Hasub_flux_corrs.fits             --                         --\n",
       "NGC4654 NGC4654_Hasub_flux_corrs.fits             --                         --\n",
       "NGC4689 NGC4689_Hasub_flux_corrs.fits             --                         --\n",
       "NGC4731 NGC4731_Hasub_flux_corrs.fits             --                         --\n",
       "NGC5068 NGC5068_Hasub_flux_corrs.fits           1.04 NGC5068-1.04asec_MAPS.fits\n",
       "NGC6744 NGC6744_Hasub_flux_corrs.fits             --                         --\n",
       "NGC7496                            --           0.89 NGC7496-0.89asec_MAPS.fits"
      ]
     },
     "execution_count": 21,
     "metadata": {},
     "output_type": "execute_result"
    }
   ],
   "source": [
    "ProjectTable"
   ]
  },
  {
   "cell_type": "code",
   "execution_count": 22,
   "id": "442ef3f7",
   "metadata": {},
   "outputs": [],
   "source": [
    "ascii.write(ProjectTable, \"../Data/ProjectTable.tex\", format=\"latex\")"
   ]
  },
  {
   "cell_type": "code",
   "execution_count": null,
   "id": "313898e6",
   "metadata": {},
   "outputs": [],
   "source": []
  },
  {
   "cell_type": "code",
   "execution_count": null,
   "id": "ac12d3ef",
   "metadata": {},
   "outputs": [],
   "source": []
  }
 ],
 "metadata": {
  "kernelspec": {
   "display_name": "Python 3",
   "language": "python",
   "name": "python3"
  },
  "language_info": {
   "codemirror_mode": {
    "name": "ipython",
    "version": 3
   },
   "file_extension": ".py",
   "mimetype": "text/x-python",
   "name": "python",
   "nbconvert_exporter": "python",
   "pygments_lexer": "ipython3",
   "version": "3.8.10"
  }
 },
 "nbformat": 4,
 "nbformat_minor": 5
}

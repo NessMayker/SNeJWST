{
 "cells": [
  {
   "cell_type": "markdown",
   "id": "da519e92",
   "metadata": {},
   "source": [
    "This notebook compiles a database for this project. Join to any other table from PHANGS as needed."
   ]
  },
  {
   "cell_type": "code",
   "execution_count": 2,
   "id": "fa194dc5",
   "metadata": {},
   "outputs": [],
   "source": [
    "import astropy\n",
    "from astropy.table import Table\n",
    "from astropy.io import ascii\n",
    "\n",
    "# NBtable = Table.read('../Data/0.NBdata.csv')  \n",
    "# MUSEtable = Table.read('../Data/0.MUSEdata.csv')\n",
    "\n",
    "# ProjectTable = astropy.table.join(NBtable, MUSEtable, join_type = \"outer\")\n",
    "\n",
    "ProjectTable = Table.read(\"../Data/0.JWST_file_list.csv\")"
   ]
  },
  {
   "cell_type": "code",
   "execution_count": 3,
   "id": "e381990c",
   "metadata": {},
   "outputs": [
    {
     "data": {
      "text/html": [
       "<i>Table length=2</i>\n",
       "<table id=\"table140709237574816\" class=\"table-striped table-bordered table-condensed\">\n",
       "<thead><tr><th>#galaxy</th><th>JWST_file_name</th></tr></thead>\n",
       "<thead><tr><th>str7</th><th>str37</th></tr></thead>\n",
       "<tr><td>IC5332</td><td>jw02107-o018_t017_miri_f770w_i2d.fits</td></tr>\n",
       "<tr><td>NGC7496</td><td>jw02107-o038_t019_miri_f770w_i2d.fits</td></tr>\n",
       "</table>"
      ],
      "text/plain": [
       "<Table length=2>\n",
       "#galaxy             JWST_file_name           \n",
       "  str7                  str37                \n",
       "------- -------------------------------------\n",
       " IC5332 jw02107-o018_t017_miri_f770w_i2d.fits\n",
       "NGC7496 jw02107-o038_t019_miri_f770w_i2d.fits"
      ]
     },
     "execution_count": 3,
     "metadata": {},
     "output_type": "execute_result"
    }
   ],
   "source": [
    "ProjectTable"
   ]
  },
  {
   "cell_type": "code",
   "execution_count": 4,
   "id": "442ef3f7",
   "metadata": {},
   "outputs": [],
   "source": [
    "ascii.write(ProjectTable, \"../Data/1.ProjectTable.tex\", format=\"latex\", overwrite=True)"
   ]
  },
  {
   "cell_type": "code",
   "execution_count": 5,
   "id": "313898e6",
   "metadata": {},
   "outputs": [],
   "source": [
    "ProjectTable.write(\"../Data/1.ProjectTable.csv\", format=\"csv\", overwrite=True)"
   ]
  },
  {
   "cell_type": "code",
   "execution_count": null,
   "id": "ac12d3ef",
   "metadata": {},
   "outputs": [],
   "source": []
  }
 ],
 "metadata": {
  "kernelspec": {
   "display_name": "Python 3",
   "language": "python",
   "name": "python3"
  },
  "language_info": {
   "codemirror_mode": {
    "name": "ipython",
    "version": 3
   },
   "file_extension": ".py",
   "mimetype": "text/x-python",
   "name": "python",
   "nbconvert_exporter": "python",
   "pygments_lexer": "ipython3",
   "version": "3.8.10"
  }
 },
 "nbformat": 4,
 "nbformat_minor": 5
}
